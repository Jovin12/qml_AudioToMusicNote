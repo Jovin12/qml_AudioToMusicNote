{
 "cells": [
  {
   "cell_type": "code",
   "execution_count": 6,
   "id": "5c95936f-dcca-46dd-99d5-8b3a75657c75",
   "metadata": {},
   "outputs": [],
   "source": [
    "import librosa\n",
    "import numpy as np\n",
    "import matplotlib.pyplot as plt"
   ]
  },
  {
   "cell_type": "code",
   "execution_count": 7,
   "id": "c01bb53f-3f83-4071-b276-8e81ae8703ab",
   "metadata": {},
   "outputs": [
    {
     "name": "stdout",
     "output_type": "stream",
     "text": [
      "Collecting qiskit-aer\n",
      "  Downloading qiskit_aer-0.17.0-cp310-cp310-win_amd64.whl.metadata (8.4 kB)\n",
      "Requirement already satisfied: qiskit>=1.1.0 in c:\\users\\jovin\\anaconda3\\envs\\ece570_v2\\lib\\site-packages (from qiskit-aer) (2.0.0)\n",
      "Requirement already satisfied: numpy>=1.16.3 in c:\\users\\jovin\\appdata\\roaming\\python\\python310\\site-packages (from qiskit-aer) (2.1.1)\n",
      "Requirement already satisfied: scipy>=1.0 in c:\\users\\jovin\\anaconda3\\envs\\ece570_v2\\lib\\site-packages (from qiskit-aer) (1.15.2)\n",
      "Requirement already satisfied: psutil>=5 in c:\\users\\jovin\\anaconda3\\envs\\ece570_v2\\lib\\site-packages (from qiskit-aer) (5.9.0)\n",
      "Requirement already satisfied: rustworkx>=0.15.0 in c:\\users\\jovin\\anaconda3\\envs\\ece570_v2\\lib\\site-packages (from qiskit>=1.1.0->qiskit-aer) (0.16.0)\n",
      "Requirement already satisfied: sympy>=1.3 in c:\\users\\jovin\\anaconda3\\envs\\ece570_v2\\lib\\site-packages (from qiskit>=1.1.0->qiskit-aer) (1.13.1)\n",
      "Requirement already satisfied: dill>=0.3 in c:\\users\\jovin\\appdata\\roaming\\python\\python310\\site-packages (from qiskit>=1.1.0->qiskit-aer) (0.3.8)\n",
      "Requirement already satisfied: python-dateutil>=2.8.0 in c:\\users\\jovin\\anaconda3\\envs\\ece570_v2\\lib\\site-packages (from qiskit>=1.1.0->qiskit-aer) (2.9.0.post0)\n",
      "Requirement already satisfied: stevedore>=3.0.0 in c:\\users\\jovin\\anaconda3\\envs\\ece570_v2\\lib\\site-packages (from qiskit>=1.1.0->qiskit-aer) (5.4.1)\n",
      "Requirement already satisfied: typing-extensions in c:\\users\\jovin\\appdata\\roaming\\python\\python310\\site-packages (from qiskit>=1.1.0->qiskit-aer) (4.12.2)\n",
      "Requirement already satisfied: symengine<0.14,>=0.11 in c:\\users\\jovin\\anaconda3\\envs\\ece570_v2\\lib\\site-packages (from qiskit>=1.1.0->qiskit-aer) (0.13.0)\n",
      "Requirement already satisfied: six>=1.5 in c:\\users\\jovin\\anaconda3\\envs\\ece570_v2\\lib\\site-packages (from python-dateutil>=2.8.0->qiskit>=1.1.0->qiskit-aer) (1.16.0)\n",
      "Requirement already satisfied: pbr>=2.0.0 in c:\\users\\jovin\\anaconda3\\envs\\ece570_v2\\lib\\site-packages (from stevedore>=3.0.0->qiskit>=1.1.0->qiskit-aer) (6.1.1)\n",
      "Requirement already satisfied: mpmath<1.4,>=1.1.0 in c:\\users\\jovin\\anaconda3\\envs\\ece570_v2\\lib\\site-packages (from sympy>=1.3->qiskit>=1.1.0->qiskit-aer) (1.3.0)\n",
      "Requirement already satisfied: setuptools in c:\\users\\jovin\\anaconda3\\envs\\ece570_v2\\lib\\site-packages (from pbr>=2.0.0->stevedore>=3.0.0->qiskit>=1.1.0->qiskit-aer) (75.8.0)\n",
      "Downloading qiskit_aer-0.17.0-cp310-cp310-win_amd64.whl (9.5 MB)\n",
      "   ---------------------------------------- 0.0/9.5 MB ? eta -:--:--\n",
      "   ---------------------------------------- 9.5/9.5 MB 66.1 MB/s eta 0:00:00\n",
      "Installing collected packages: qiskit-aer\n",
      "Successfully installed qiskit-aer-0.17.0\n"
     ]
    }
   ],
   "source": [
    "!pip install qiskit-aer"
   ]
  },
  {
   "cell_type": "code",
   "execution_count": 2,
   "id": "eafaded4-a9a3-4697-8c36-809bbe6ac8cd",
   "metadata": {},
   "outputs": [],
   "source": [
    "audio_path = 'archive/Piano_Notes/piano-eb_D#_major.wav'"
   ]
  },
  {
   "cell_type": "code",
   "execution_count": 10,
   "id": "9e949f78-4761-43ef-9bd4-15e660c88859",
   "metadata": {},
   "outputs": [],
   "source": [
    "y,sr = librosa.load(audio_path)\n",
    "duration = librosa.get_duration(y = y, sr = sr)\n",
    "samples = len(y)"
   ]
  },
  {
   "cell_type": "code",
   "execution_count": 4,
   "id": "54c99c11-d446-41ce-bea8-35d056995717",
   "metadata": {},
   "outputs": [],
   "source": [
    "n_fft = 2048 # window length for short forier transform\n",
    "hop_length = 512 # hop difference between each window"
   ]
  },
  {
   "cell_type": "code",
   "execution_count": 5,
   "id": "2eb8072a-5beb-4993-92da-56546ef312c2",
   "metadata": {},
   "outputs": [
    {
     "data": {
      "text/plain": [
       "33968"
      ]
     },
     "execution_count": 5,
     "metadata": {},
     "output_type": "execute_result"
    }
   ],
   "source": [
    "samples"
   ]
  },
  {
   "cell_type": "code",
   "execution_count": 6,
   "id": "4efbb8a3-06d0-42e4-8e45-8ed3a2d4dd80",
   "metadata": {},
   "outputs": [],
   "source": [
    "y, _ = librosa.effects.trim(y, top_db = 10)\n",
    "stft = librosa.stft(y)\n",
    "chromagram = librosa.feature.chroma_stft(S = np.abs(stft), sr = sr)"
   ]
  },
  {
   "cell_type": "code",
   "execution_count": 7,
   "id": "6326d954-f5f5-48ab-a93f-4802e58f2894",
   "metadata": {},
   "outputs": [
    {
     "data": {
      "text/plain": [
       "(12, 24)"
      ]
     },
     "execution_count": 7,
     "metadata": {},
     "output_type": "execute_result"
    }
   ],
   "source": [
    "chromagram.shape"
   ]
  },
  {
   "cell_type": "code",
   "execution_count": 7,
   "id": "a6108bee-c02f-4b8a-b6b0-2843951a4a50",
   "metadata": {},
   "outputs": [],
   "source": [
    "def get_chromagram(audio_file):\n",
    "    y,sr = librosa.load(audio_file)\n",
    "    y, _ = librosa.effects.trim(y, top_db = 10)\n",
    "    stft = librosa.stft(y)\n",
    "    chromagram = librosa.feature.chroma_stft(S = np.abs(stft), sr = sr)\n",
    "    return chromagram"
   ]
  },
  {
   "cell_type": "code",
   "execution_count": 11,
   "id": "d19e0da9-6f7d-48ed-ba5d-89184b4c9967",
   "metadata": {},
   "outputs": [
    {
     "data": {
      "image/png": "[encoded data removed]",
      "text/plain": [
       "<Figure size 1200x400 with 2 Axes>"
      ]
     },
     "metadata": {},
     "output_type": "display_data"
    }
   ],
   "source": [
    "chroma = get_chromagram(audio_path)\n",
    "\n",
    "plt.figure(figsize=(12, 4))\n",
    "librosa.display.specshow(chroma, sr=samples, x_axis='time', y_axis='chroma', cmap='coolwarm')\n",
    "plt.colorbar(format='%+2.0f dB')\n",
    "plt.title('Chromagram')\n",
    "plt.tight_layout()\n",
    "plt.show()"
   ]
  },
  {
   "cell_type": "code",
   "execution_count": 2,
   "id": "1fa105eb-cd54-48af-a1cb-c55d5cc91508",
   "metadata": {},
   "outputs": [],
   "source": [
    "audio_path = 'archive/Piano_Notes/piano-eb_D#_major.wav'"
   ]
  },
  {
   "cell_type": "code",
   "execution_count": 10,
   "id": "f508fa9b-6471-4bdc-b3ec-6ea81d106695",
   "metadata": {},
   "outputs": [],
   "source": [
    "chromagram = get_chromagram(audio_path)"
   ]
  },
  {
   "cell_type": "code",
   "execution_count": 11,
   "id": "6f7950f5-0551-4617-9ca4-105b28b57a8c",
   "metadata": {},
   "outputs": [],
   "source": [
    "prominant_pitch = np.argmax(chromagram[:,21])"
   ]
  },
  {
   "cell_type": "code",
   "execution_count": 12,
   "id": "08a033fb-d7d6-41fc-b34a-6f1f66f5d614",
   "metadata": {},
   "outputs": [],
   "source": [
    "pitch_classes = [\"C\",\"C#\",\"D\",\"D#\",\"E\",\"F\",\"F#\",\"G\",\"G#\",\"A\",\"A#\",\"B\"]"
   ]
  },
  {
   "cell_type": "code",
   "execution_count": 13,
   "id": "f11d8ce6-f88c-41e2-a875-070ba42d649d",
   "metadata": {},
   "outputs": [
    {
     "data": {
      "text/plain": [
       "'D#'"
      ]
     },
     "execution_count": 13,
     "metadata": {},
     "output_type": "execute_result"
    }
   ],
   "source": [
    "pitch_name = pitch_classes[prominant_pitch]\n",
    "pitch_name"
   ]
  },
  {
   "cell_type": "code",
   "execution_count": 14,
   "id": "0f6614fb-949f-4891-b622-6994f5b6ab5f",
   "metadata": {},
   "outputs": [],
   "source": [
    "# Designing the Circuit\n",
    "import qiskit\n",
    "from qiskit.circuit import QuantumCircuit, QuantumRegister, ClassicalRegister\n",
    "from qiskit.circuit.parameter import Parameter\n",
    "import numpy as np"
   ]
  },
  {
   "cell_type": "code",
   "execution_count": 15,
   "id": "fb1198fc-aa81-4299-8f4a-7bc1c433486f",
   "metadata": {},
   "outputs": [
    {
     "data": {
      "text/html": [
       "<pre style=\"word-wrap: normal;white-space: pre;background: #fff0;line-height: 1.1;font-family: &quot;Courier New&quot;,Courier,monospace\">   ┌───────────────┐\n",
       "q: ┤ U(angle2,0,0) ├\n",
       "   └───────────────┘</pre>"
      ],
      "text/plain": [
       "   ┌───────────────┐\n",
       "q: ┤ U(angle2,0,0) ├\n",
       "   └───────────────┘"
      ]
     },
     "execution_count": 15,
     "metadata": {},
     "output_type": "execute_result"
    }
   ],
   "source": [
    "from qiskit.transpiler import generate_preset_pass_manager\n",
    "from qiskit.circuit import Parameter\n",
    " \n",
    "angle = Parameter(\"angle2\")  # undefined number\n",
    " \n",
    "# Create and optimize circuit once\n",
    "qc = QuantumCircuit(1)\n",
    "qc.ry(angle, 0)\n",
    "\n",
    "qc = generate_preset_pass_manager(optimization_level=3, basis_gates=[\"u\", \"cx\"]).run(qc)\n",
    " \n",
    "qc.draw(output = 'text')"
   ]
  },
  {
   "cell_type": "code",
   "execution_count": 16,
   "id": "e42f1a94-c326-49c2-b5ed-828716160468",
   "metadata": {},
   "outputs": [],
   "source": [
    "def vqc(n_qubits, n_layers, n_features):\n",
    "    \n",
    "    qr = QuantumRegister(n_qubits, 'q')\n",
    "    cr = ClassicalRegister(n_qubits, 'c')\n",
    "    \n",
    "    qc = QuantumCircuit(qr, cr, name = 'vqc')\n",
    "\n",
    "    # using angle encoding\n",
    "    # REASONS: direct maping of classical data\n",
    "    #           using continuous variable to represent feature, to preserve mor eof the original\n",
    "    for i in range(n_features):\n",
    "        angle = Parameter(f'feature{i}')\n",
    "        qc.ry(angle, qr[i % n_qubits])   # reusing the same qubits to code multiple features\n",
    "\n",
    "    # for the number of circuit layers we want to implement\n",
    "    for layer in range(n_layers):\n",
    "        for i in range(n_qubits):\n",
    "            theta = Parameter(f'theta_{layer}_{i}')\n",
    "            phi = Parameter(f'phi_{layer}_{i}')\n",
    "            lam = Parameter(f'lambda_{layer}_{i}')\n",
    "            qc.u(theta, phi, lam, qr[i])\n",
    "\n",
    "        for i in range(n_qubits -1):\n",
    "            qc.cx(qr[i], qr[i+1])\n",
    "\n",
    "        if n_qubits > 1: \n",
    "            qc.cx(qr[n_qubits -1], qr[0])\n",
    "\n",
    "    qc.measure(qr,cr)\n",
    "    return qc"
   ]
  },
  {
   "cell_type": "code",
   "execution_count": 17,
   "id": "150ceed4-dd68-493f-9d5c-fa5af94cfc95",
   "metadata": {},
   "outputs": [],
   "source": [
    "n_qubits = 4\n",
    "n_layers = 2\n",
    "n_features = 12\n",
    "circuit = vqc(n_qubits, n_layers, n_features)"
   ]
  },
  {
   "cell_type": "code",
   "execution_count": 18,
   "id": "1daf70b1-ad13-474d-a163-257fabed9c34",
   "metadata": {},
   "outputs": [
    {
     "data": {
      "text/html": [
       "<pre style=\"word-wrap: normal;white-space: pre;background: #fff0;line-height: 1.1;font-family: &quot;Courier New&quot;,Courier,monospace\">     ┌──────────────┐┌──────────────┐ ┌──────────────┐»\n",
       "q_0: ┤ Ry(feature0) ├┤ Ry(feature4) ├─┤ Ry(feature8) ├»\n",
       "     ├──────────────┤├──────────────┤ ├──────────────┤»\n",
       "q_1: ┤ Ry(feature1) ├┤ Ry(feature5) ├─┤ Ry(feature9) ├»\n",
       "     ├──────────────┤├──────────────┤┌┴──────────────┤»\n",
       "q_2: ┤ Ry(feature2) ├┤ Ry(feature6) ├┤ Ry(feature10) ├»\n",
       "     ├──────────────┤├──────────────┤├───────────────┤»\n",
       "q_3: ┤ Ry(feature3) ├┤ Ry(feature7) ├┤ Ry(feature11) ├»\n",
       "     └──────────────┘└──────────────┘└───────────────┘»\n",
       "c: 4/═════════════════════════════════════════════════»\n",
       "                                                      »\n",
       "«     ┌─────────────────────────────────┐          »\n",
       "«q_0: ┤ U(theta_0_0,phi_0_0,lambda_0_0) ├──■───────»\n",
       "«     ├─────────────────────────────────┤┌─┴─┐     »\n",
       "«q_1: ┤ U(theta_0_1,phi_0_1,lambda_0_1) ├┤ X ├──■──»\n",
       "«     ├─────────────────────────────────┤└───┘┌─┴─┐»\n",
       "«q_2: ┤ U(theta_0_2,phi_0_2,lambda_0_2) ├─────┤ X ├»\n",
       "«     ├─────────────────────────────────┤     └───┘»\n",
       "«q_3: ┤ U(theta_0_3,phi_0_3,lambda_0_3) ├──────────»\n",
       "«     └─────────────────────────────────┘          »\n",
       "«c: 4/═════════════════════════════════════════════»\n",
       "«                                                  »\n",
       "«                                        ┌───┐»\n",
       "«q_0: ───────────────────────────────────┤ X ├»\n",
       "«     ┌─────────────────────────────────┐└─┬─┘»\n",
       "«q_1: ┤ U(theta_1_1,phi_1_1,lambda_1_1) ├──┼──»\n",
       "«     └─────────────────────────────────┘  │  »\n",
       "«q_2: ─────────────────■───────────────────┼──»\n",
       "«                    ┌─┴─┐                 │  »\n",
       "«q_3: ───────────────┤ X ├─────────────────■──»\n",
       "«                    └───┘                    »\n",
       "«c: 4/════════════════════════════════════════»\n",
       "«                                             »\n",
       "«     ┌─────────────────────────────────┐                  ┌───┐   ┌─┐   \n",
       "«q_0: ┤ U(theta_1_0,phi_1_0,lambda_1_0) ├──■───────────────┤ X ├───┤M├───\n",
       "«     └─────────────────────────────────┘┌─┴─┐          ┌─┐└─┬─┘   └╥┘   \n",
       "«q_1: ───────────────────────────────────┤ X ├──■───────┤M├──┼──────╫────\n",
       "«     ┌─────────────────────────────────┐└───┘┌─┴─┐     └╥┘  │  ┌─┐ ║    \n",
       "«q_2: ┤ U(theta_1_2,phi_1_2,lambda_1_2) ├─────┤ X ├──■───╫───┼──┤M├─╫────\n",
       "«     ├─────────────────────────────────┤     └───┘┌─┴─┐ ║   │  └╥┘ ║ ┌─┐\n",
       "«q_3: ┤ U(theta_1_3,phi_1_3,lambda_1_3) ├──────────┤ X ├─╫───■───╫──╫─┤M├\n",
       "«     └─────────────────────────────────┘          └───┘ ║       ║  ║ └╥┘\n",
       "«c: 4/═══════════════════════════════════════════════════╩═══════╩══╩══╩═\n",
       "«                                                        1       2  0  3 </pre>"
      ],
      "text/plain": [
       "     ┌──────────────┐┌──────────────┐ ┌──────────────┐»\n",
       "q_0: ┤ Ry(feature0) ├┤ Ry(feature4) ├─┤ Ry(feature8) ├»\n",
       "     ├──────────────┤├──────────────┤ ├──────────────┤»\n",
       "q_1: ┤ Ry(feature1) ├┤ Ry(feature5) ├─┤ Ry(feature9) ├»\n",
       "     ├──────────────┤├──────────────┤┌┴──────────────┤»\n",
       "q_2: ┤ Ry(feature2) ├┤ Ry(feature6) ├┤ Ry(feature10) ├»\n",
       "     ├──────────────┤├──────────────┤├───────────────┤»\n",
       "q_3: ┤ Ry(feature3) ├┤ Ry(feature7) ├┤ Ry(feature11) ├»\n",
       "     └──────────────┘└──────────────┘└───────────────┘»\n",
       "c: 4/═════════════════════════════════════════════════»\n",
       "                                                      »\n",
       "«     ┌─────────────────────────────────┐          »\n",
       "«q_0: ┤ U(theta_0_0,phi_0_0,lambda_0_0) ├──■───────»\n",
       "«     ├─────────────────────────────────┤┌─┴─┐     »\n",
       "«q_1: ┤ U(theta_0_1,phi_0_1,lambda_0_1) ├┤ X ├──■──»\n",
       "«     ├─────────────────────────────────┤└───┘┌─┴─┐»\n",
       "«q_2: ┤ U(theta_0_2,phi_0_2,lambda_0_2) ├─────┤ X ├»\n",
       "«     ├─────────────────────────────────┤     └───┘»\n",
       "«q_3: ┤ U(theta_0_3,phi_0_3,lambda_0_3) ├──────────»\n",
       "«     └─────────────────────────────────┘          »\n",
       "«c: 4/═════════════════════════════════════════════»\n",
       "«                                                  »\n",
       "«                                        ┌───┐»\n",
       "«q_0: ───────────────────────────────────┤ X ├»\n",
       "«     ┌─────────────────────────────────┐└─┬─┘»\n",
       "«q_1: ┤ U(theta_1_1,phi_1_1,lambda_1_1) ├──┼──»\n",
       "«     └─────────────────────────────────┘  │  »\n",
       "«q_2: ─────────────────■───────────────────┼──»\n",
       "«                    ┌─┴─┐                 │  »\n",
       "«q_3: ───────────────┤ X ├─────────────────■──»\n",
       "«                    └───┘                    »\n",
       "«c: 4/════════════════════════════════════════»\n",
       "«                                             »\n",
       "«     ┌─────────────────────────────────┐                  ┌───┐   ┌─┐   \n",
       "«q_0: ┤ U(theta_1_0,phi_1_0,lambda_1_0) ├──■───────────────┤ X ├───┤M├───\n",
       "«     └─────────────────────────────────┘┌─┴─┐          ┌─┐└─┬─┘   └╥┘   \n",
       "«q_1: ───────────────────────────────────┤ X ├──■───────┤M├──┼──────╫────\n",
       "«     ┌─────────────────────────────────┐└───┘┌─┴─┐     └╥┘  │  ┌─┐ ║    \n",
       "«q_2: ┤ U(theta_1_2,phi_1_2,lambda_1_2) ├─────┤ X ├──■───╫───┼──┤M├─╫────\n",
       "«     ├─────────────────────────────────┤     └───┘┌─┴─┐ ║   │  └╥┘ ║ ┌─┐\n",
       "«q_3: ┤ U(theta_1_3,phi_1_3,lambda_1_3) ├──────────┤ X ├─╫───■───╫──╫─┤M├\n",
       "«     └─────────────────────────────────┘          └───┘ ║       ║  ║ └╥┘\n",
       "«c: 4/═══════════════════════════════════════════════════╩═══════╩══╩══╩═\n",
       "«                                                        1       2  0  3 "
      ]
     },
     "execution_count": 18,
     "metadata": {},
     "output_type": "execute_result"
    }
   ],
   "source": [
    "circuit.draw(output=\"text\")"
   ]
  },
  {
   "cell_type": "code",
   "execution_count": 19,
   "id": "623df8c4-9b83-48a9-a232-1a20d799bd9b",
   "metadata": {},
   "outputs": [
    {
     "data": {
      "text/plain": [
       "ParameterView([Parameter(feature0), Parameter(feature1), Parameter(feature10), Parameter(feature11), Parameter(feature2), Parameter(feature3), Parameter(feature4), Parameter(feature5), Parameter(feature6), Parameter(feature7), Parameter(feature8), Parameter(feature9), Parameter(lambda_0_0), Parameter(lambda_0_1), Parameter(lambda_0_2), Parameter(lambda_0_3), Parameter(lambda_1_0), Parameter(lambda_1_1), Parameter(lambda_1_2), Parameter(lambda_1_3), Parameter(phi_0_0), Parameter(phi_0_1), Parameter(phi_0_2), Parameter(phi_0_3), Parameter(phi_1_0), Parameter(phi_1_1), Parameter(phi_1_2), Parameter(phi_1_3), Parameter(theta_0_0), Parameter(theta_0_1), Parameter(theta_0_2), Parameter(theta_0_3), Parameter(theta_1_0), Parameter(theta_1_1), Parameter(theta_1_2), Parameter(theta_1_3)])"
      ]
     },
     "execution_count": 19,
     "metadata": {},
     "output_type": "execute_result"
    }
   ],
   "source": [
    "circuit.parameters"
   ]
  },
  {
   "cell_type": "code",
   "execution_count": 10,
   "id": "6dac71c8-d587-44b7-9348-f6bf81c0ae29",
   "metadata": {},
   "outputs": [],
   "source": [
    "from qiskit import QuantumCircuit, QuantumRegister, ClassicalRegister, transpile\n",
    "from qiskit_aer import AerSimulator\n",
    "from qiskit.quantum_info import Statevector\n",
    "from qiskit.circuit import Parameter\n",
    "import torch\n",
    "import torch.nn as nn\n",
    "\n",
    "class QNNClassifier(nn.Module):\n",
    "    def __init__(self, n_qubits, n_layers, n_features, num_classes):\n",
    "        super(QNNClassifier, self).__init__()\n",
    "        self.n_qubits = n_qubits\n",
    "        self.n_layers = n_layers\n",
    "        self.n_features = n_features\n",
    "        self.num_classes = num_classes\n",
    "        self.simulator = Aer().get_backend()\n",
    "\n",
    "        # Create the parameterized quantum circuit\n",
    "        self.vqc_circuit = vqc(n_qubits, n_layers, n_features)\n",
    "        self.num_params = len(self.vqc_circuit.parameters) - n_features # Number of trainable parameters\n",
    "        self.params = nn.Parameter(torch.rand(self.num_params) * 2 * torch.pi)\n",
    "\n",
    "        self.fc = nn.Linear(2**n_qubits, num_classes)\n",
    "\n",
    "    def forward(self, x):\n",
    "        qc = self.vqc_circuit.assign_parameters({}) # Start with no parameters assigned\n",
    "        param_dict = {}\n",
    "\n",
    "        # Assign feature parameters\n",
    "        for i in range(self.n_features):\n",
    "            param_name = f'feature{i}'\n",
    "            if param_name in qc.parameters_set:\n",
    "                param_dict[qc.parameters[qc.parameters.index(Parameter(param_name))]] = x[:, i % self.n_qubits]\n",
    "\n",
    "        # Assign trainable parameters\n",
    "        param_index = 0\n",
    "        for param in qc.parameters:\n",
    "            if param.name.startswith('theta_') or param.name.startswith('phi_') or param.name.startswith('lambda_'):\n",
    "                param_dict[param] = self.params[param_index]\n",
    "                param_index += 1\n",
    "\n",
    "        qc_bound = qc.assign_parameters(param_dict)\n",
    "        qc_transpiled = transpile(qc_bound, self.simulator) # Transpile for the backend\n",
    "        job = self.simulator.run(qc_transpiled, shots=1024)\n",
    "        result = job.result().get_counts(qc_transpiled)\n",
    "\n",
    "        output_vector = [result.get(bin(i)[2:].zfill(self.n_qubits), 0) for i in range(2**self.n_qubits)]\n",
    "        output_tensor = torch.tensor(output_vector, dtype=torch.float32)\n",
    "        output = self.fc(output_tensor)\n",
    "        return output"
   ]
  },
  {
   "cell_type": "code",
   "execution_count": null,
   "id": "96263e29-d8b4-40e9-a3e3-6f617fdb5ea1",
   "metadata": {},
   "outputs": [],
   "source": []
  }
 ],
 "metadata": {
  "kernelspec": {
   "display_name": "Python 3 (ipykernel)",
   "language": "python",
   "name": "python3"
  },
  "language_info": {
   "codemirror_mode": {
    "name": "ipython",
    "version": 3
   },
   "file_extension": ".py",
   "mimetype": "text/x-python",
   "name": "python",
   "nbconvert_exporter": "python",
   "pygments_lexer": "ipython3",
   "version": "3.10.16"
  }
 },
 "nbformat": 4,
 "nbformat_minor": 5
}
