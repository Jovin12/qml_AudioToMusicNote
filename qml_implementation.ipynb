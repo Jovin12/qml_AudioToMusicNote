{
 "cells": [
  {
   "cell_type": "code",
   "execution_count": 11,
   "id": "f7e73bf4-8552-4a0f-8038-95c849686680",
   "metadata": {
    "scrolled": true
   },
   "outputs": [
    {
     "name": "stdout",
     "output_type": "stream",
     "text": [
      "Collecting torchvision\n",
      "  Downloading torchvision-0.21.0-cp39-cp39-win_amd64.whl.metadata (6.3 kB)\n",
      "Requirement already satisfied: numpy in c:\\users\\jovin\\anaconda3\\envs\\ece570\\lib\\site-packages (from torchvision) (2.0.2)\n",
      "Collecting torch==2.6.0 (from torchvision)\n",
      "  Downloading torch-2.6.0-cp39-cp39-win_amd64.whl.metadata (28 kB)\n",
      "Requirement already satisfied: pillow!=8.3.*,>=5.3.0 in c:\\users\\jovin\\anaconda3\\envs\\ece570\\lib\\site-packages (from torchvision) (11.2.0)\n",
      "Collecting filelock (from torch==2.6.0->torchvision)\n",
      "  Downloading filelock-3.18.0-py3-none-any.whl.metadata (2.9 kB)\n",
      "Requirement already satisfied: typing-extensions>=4.10.0 in c:\\users\\jovin\\anaconda3\\envs\\ece570\\lib\\site-packages (from torch==2.6.0->torchvision) (4.12.2)\n",
      "Collecting networkx (from torch==2.6.0->torchvision)\n",
      "  Downloading networkx-3.2.1-py3-none-any.whl.metadata (5.2 kB)\n",
      "Requirement already satisfied: jinja2 in c:\\users\\jovin\\anaconda3\\envs\\ece570\\lib\\site-packages (from torch==2.6.0->torchvision) (3.1.6)\n",
      "Collecting fsspec (from torch==2.6.0->torchvision)\n",
      "  Downloading fsspec-2025.3.2-py3-none-any.whl.metadata (11 kB)\n",
      "Collecting sympy==1.13.1 (from torch==2.6.0->torchvision)\n",
      "  Using cached sympy-1.13.1-py3-none-any.whl.metadata (12 kB)\n",
      "Requirement already satisfied: mpmath<1.4,>=1.1.0 in c:\\users\\jovin\\anaconda3\\envs\\ece570\\lib\\site-packages (from sympy==1.13.1->torch==2.6.0->torchvision) (1.3.0)\n",
      "Requirement already satisfied: MarkupSafe>=2.0 in c:\\users\\jovin\\anaconda3\\envs\\ece570\\lib\\site-packages (from jinja2->torch==2.6.0->torchvision) (3.0.2)\n",
      "Downloading torchvision-0.21.0-cp39-cp39-win_amd64.whl (1.6 MB)\n",
      "   ---------------------------------------- 0.0/1.6 MB ? eta -:--:--\n",
      "   ---------------------------------------- 1.6/1.6 MB 41.9 MB/s eta 0:00:00\n",
      "Downloading torch-2.6.0-cp39-cp39-win_amd64.whl (204.1 MB)\n",
      "   ---------------------------------------- 0.0/204.1 MB ? eta -:--:--\n",
      "   --- ------------------------------------ 17.3/204.1 MB 83.9 MB/s eta 0:00:03\n",
      "   ------- -------------------------------- 35.9/204.1 MB 87.8 MB/s eta 0:00:02\n",
      "   ---------- ----------------------------- 51.1/204.1 MB 81.4 MB/s eta 0:00:02\n",
      "   ------------- -------------------------- 70.3/204.1 MB 84.5 MB/s eta 0:00:02\n",
      "   ----------------- ---------------------- 89.4/204.1 MB 85.1 MB/s eta 0:00:02\n",
      "   -------------------- ------------------ 108.5/204.1 MB 85.5 MB/s eta 0:00:02\n",
      "   ------------------------ -------------- 126.4/204.1 MB 85.0 MB/s eta 0:00:01\n",
      "   --------------------------- ----------- 145.2/204.1 MB 85.1 MB/s eta 0:00:01\n",
      "   ------------------------------- ------- 163.8/204.1 MB 85.1 MB/s eta 0:00:01\n",
      "   ----------------------------------- --- 184.0/204.1 MB 85.8 MB/s eta 0:00:01\n",
      "   --------------------------------------  203.9/204.1 MB 86.9 MB/s eta 0:00:01\n",
      "   --------------------------------------  203.9/204.1 MB 86.9 MB/s eta 0:00:01\n",
      "   --------------------------------------- 204.1/204.1 MB 74.5 MB/s eta 0:00:00\n",
      "Using cached sympy-1.13.1-py3-none-any.whl (6.2 MB)\n",
      "Downloading filelock-3.18.0-py3-none-any.whl (16 kB)\n",
      "Downloading fsspec-2025.3.2-py3-none-any.whl (194 kB)\n",
      "Downloading networkx-3.2.1-py3-none-any.whl (1.6 MB)\n",
      "   ---------------------------------------- 0.0/1.6 MB ? eta -:--:--\n",
      "   ---------------------------------------- 1.6/1.6 MB 86.6 MB/s eta 0:00:00\n",
      "Installing collected packages: sympy, networkx, fsspec, filelock, torch, torchvision\n",
      "  Attempting uninstall: sympy\n",
      "    Found existing installation: sympy 1.13.3\n",
      "    Uninstalling sympy-1.13.3:\n",
      "      Successfully uninstalled sympy-1.13.3\n",
      "Successfully installed filelock-3.18.0 fsspec-2025.3.2 networkx-3.2.1 sympy-1.13.1 torch-2.6.0 torchvision-0.21.0\n"
     ]
    }
   ],
   "source": [
    "!pip install torchvision"
   ]
  },
  {
   "cell_type": "code",
   "execution_count": 12,
   "id": "1cbf9e09-5f61-47af-b4f9-9a43dfeede8b",
   "metadata": {
    "scrolled": true
   },
   "outputs": [
    {
     "name": "stdout",
     "output_type": "stream",
     "text": [
      "Collecting qiskit-algorithms\n",
      "  Downloading qiskit_algorithms-0.3.1-py3-none-any.whl.metadata (4.2 kB)\n",
      "Requirement already satisfied: qiskit>=0.44 in c:\\users\\jovin\\anaconda3\\envs\\ece570\\lib\\site-packages (from qiskit-algorithms) (2.0.0)\n",
      "Requirement already satisfied: scipy>=1.4 in c:\\users\\jovin\\anaconda3\\envs\\ece570\\lib\\site-packages (from qiskit-algorithms) (1.13.1)\n",
      "Requirement already satisfied: numpy>=1.17 in c:\\users\\jovin\\anaconda3\\envs\\ece570\\lib\\site-packages (from qiskit-algorithms) (2.0.2)\n",
      "Requirement already satisfied: rustworkx>=0.15.0 in c:\\users\\jovin\\anaconda3\\envs\\ece570\\lib\\site-packages (from qiskit>=0.44->qiskit-algorithms) (0.16.0)\n",
      "Requirement already satisfied: sympy>=1.3 in c:\\users\\jovin\\anaconda3\\envs\\ece570\\lib\\site-packages (from qiskit>=0.44->qiskit-algorithms) (1.13.1)\n",
      "Requirement already satisfied: dill>=0.3 in c:\\users\\jovin\\anaconda3\\envs\\ece570\\lib\\site-packages (from qiskit>=0.44->qiskit-algorithms) (0.3.9)\n",
      "Requirement already satisfied: python-dateutil>=2.8.0 in c:\\users\\jovin\\anaconda3\\envs\\ece570\\lib\\site-packages (from qiskit>=0.44->qiskit-algorithms) (2.9.0.post0)\n",
      "Requirement already satisfied: stevedore>=3.0.0 in c:\\users\\jovin\\anaconda3\\envs\\ece570\\lib\\site-packages (from qiskit>=0.44->qiskit-algorithms) (5.4.1)\n",
      "Requirement already satisfied: typing-extensions in c:\\users\\jovin\\anaconda3\\envs\\ece570\\lib\\site-packages (from qiskit>=0.44->qiskit-algorithms) (4.12.2)\n",
      "Requirement already satisfied: symengine<0.14,>=0.11 in c:\\users\\jovin\\anaconda3\\envs\\ece570\\lib\\site-packages (from qiskit>=0.44->qiskit-algorithms) (0.13.0)\n",
      "Requirement already satisfied: six>=1.5 in c:\\users\\jovin\\anaconda3\\envs\\ece570\\lib\\site-packages (from python-dateutil>=2.8.0->qiskit>=0.44->qiskit-algorithms) (1.16.0)\n",
      "Requirement already satisfied: pbr>=2.0.0 in c:\\users\\jovin\\anaconda3\\envs\\ece570\\lib\\site-packages (from stevedore>=3.0.0->qiskit>=0.44->qiskit-algorithms) (6.1.1)\n",
      "Requirement already satisfied: mpmath<1.4,>=1.1.0 in c:\\users\\jovin\\anaconda3\\envs\\ece570\\lib\\site-packages (from sympy>=1.3->qiskit>=0.44->qiskit-algorithms) (1.3.0)\n",
      "Requirement already satisfied: setuptools in c:\\users\\jovin\\anaconda3\\envs\\ece570\\lib\\site-packages (from pbr>=2.0.0->stevedore>=3.0.0->qiskit>=0.44->qiskit-algorithms) (75.8.0)\n",
      "Downloading qiskit_algorithms-0.3.1-py3-none-any.whl (310 kB)\n",
      "Installing collected packages: qiskit-algorithms\n",
      "Successfully installed qiskit-algorithms-0.3.1\n"
     ]
    }
   ],
   "source": [
    "!pip install qiskit-algorithms"
   ]
  },
  {
   "cell_type": "code",
   "execution_count": 41,
   "id": "ef3bd7ae-5647-4102-a51a-1ed94792b1ea",
   "metadata": {},
   "outputs": [
    {
     "name": "stdout",
     "output_type": "stream",
     "text": [
      "Collecting qiskit-optimization\n",
      "  Downloading qiskit_optimization-0.6.1-py3-none-any.whl.metadata (8.6 kB)\n",
      "Requirement already satisfied: qiskit>=0.44 in c:\\users\\jovin\\anaconda3\\envs\\ece570\\lib\\site-packages (from qiskit-optimization) (2.0.0)\n",
      "Requirement already satisfied: qiskit-algorithms>=0.2.0 in c:\\users\\jovin\\anaconda3\\envs\\ece570\\lib\\site-packages (from qiskit-optimization) (0.3.1)\n",
      "Requirement already satisfied: scipy>=1.9.0 in c:\\users\\jovin\\anaconda3\\envs\\ece570\\lib\\site-packages (from qiskit-optimization) (1.13.1)\n",
      "Requirement already satisfied: numpy>=1.17 in c:\\users\\jovin\\anaconda3\\envs\\ece570\\lib\\site-packages (from qiskit-optimization) (2.0.2)\n",
      "Collecting docplex!=2.24.231,>=2.21.207 (from qiskit-optimization)\n",
      "  Downloading docplex-2.29.241.tar.gz (645 kB)\n",
      "     ---------------------------------------- 0.0/645.5 kB ? eta -:--:--\n",
      "     ------------------------------------- 645.5/645.5 kB 24.0 MB/s eta 0:00:00\n",
      "  Installing build dependencies: started\n",
      "  Installing build dependencies: finished with status 'done'\n",
      "  Getting requirements to build wheel: started\n",
      "  Getting requirements to build wheel: finished with status 'done'\n",
      "  Installing backend dependencies: started\n",
      "  Installing backend dependencies: finished with status 'done'\n",
      "  Preparing metadata (pyproject.toml): started\n",
      "  Preparing metadata (pyproject.toml): finished with status 'done'\n",
      "Requirement already satisfied: setuptools>=40.1.0 in c:\\users\\jovin\\anaconda3\\envs\\ece570\\lib\\site-packages (from qiskit-optimization) (75.8.0)\n",
      "Requirement already satisfied: networkx>=2.6.3 in c:\\users\\jovin\\anaconda3\\envs\\ece570\\lib\\site-packages (from qiskit-optimization) (3.2.1)\n",
      "Requirement already satisfied: six in c:\\users\\jovin\\anaconda3\\envs\\ece570\\lib\\site-packages (from docplex!=2.24.231,>=2.21.207->qiskit-optimization) (1.16.0)\n",
      "Requirement already satisfied: rustworkx>=0.15.0 in c:\\users\\jovin\\anaconda3\\envs\\ece570\\lib\\site-packages (from qiskit>=0.44->qiskit-optimization) (0.16.0)\n",
      "Requirement already satisfied: sympy>=1.3 in c:\\users\\jovin\\anaconda3\\envs\\ece570\\lib\\site-packages (from qiskit>=0.44->qiskit-optimization) (1.13.1)\n",
      "Requirement already satisfied: dill>=0.3 in c:\\users\\jovin\\anaconda3\\envs\\ece570\\lib\\site-packages (from qiskit>=0.44->qiskit-optimization) (0.3.9)\n",
      "Requirement already satisfied: python-dateutil>=2.8.0 in c:\\users\\jovin\\anaconda3\\envs\\ece570\\lib\\site-packages (from qiskit>=0.44->qiskit-optimization) (2.9.0.post0)\n",
      "Requirement already satisfied: stevedore>=3.0.0 in c:\\users\\jovin\\anaconda3\\envs\\ece570\\lib\\site-packages (from qiskit>=0.44->qiskit-optimization) (5.4.1)\n",
      "Requirement already satisfied: typing-extensions in c:\\users\\jovin\\anaconda3\\envs\\ece570\\lib\\site-packages (from qiskit>=0.44->qiskit-optimization) (4.12.2)\n",
      "Requirement already satisfied: symengine<0.14,>=0.11 in c:\\users\\jovin\\anaconda3\\envs\\ece570\\lib\\site-packages (from qiskit>=0.44->qiskit-optimization) (0.13.0)\n",
      "Requirement already satisfied: pbr>=2.0.0 in c:\\users\\jovin\\anaconda3\\envs\\ece570\\lib\\site-packages (from stevedore>=3.0.0->qiskit>=0.44->qiskit-optimization) (6.1.1)\n",
      "Requirement already satisfied: mpmath<1.4,>=1.1.0 in c:\\users\\jovin\\anaconda3\\envs\\ece570\\lib\\site-packages (from sympy>=1.3->qiskit>=0.44->qiskit-optimization) (1.3.0)\n",
      "Downloading qiskit_optimization-0.6.1-py3-none-any.whl (167 kB)\n",
      "Building wheels for collected packages: docplex\n",
      "  Building wheel for docplex (pyproject.toml): started\n",
      "  Building wheel for docplex (pyproject.toml): finished with status 'done'\n",
      "  Created wheel for docplex: filename=docplex-2.29.241-py3-none-any.whl size=685474 sha256=8ca174373f632b31f31dbf540ac492fce96004ec47fa99f069de4e6e72b9d36a\n",
      "  Stored in directory: c:\\users\\jovin\\appdata\\local\\pip\\cache\\wheels\\1e\\6d\\85\\f2bcad82728552de08dfcaec5dd4dfd2dd75284a29312e95c5\n",
      "Successfully built docplex\n",
      "Installing collected packages: docplex, qiskit-optimization\n",
      "Successfully installed docplex-2.29.241 qiskit-optimization-0.6.1\n"
     ]
    }
   ],
   "source": [
    "!pip install qiskit-optimization"
   ]
  },
  {
   "cell_type": "code",
   "execution_count": 27,
   "id": "7e7aa1e6-63ec-4970-b790-4b950a3a4446",
   "metadata": {},
   "outputs": [
    {
     "name": "stdout",
     "output_type": "stream",
     "text": [
      "2.0.0\n"
     ]
    }
   ],
   "source": [
    "print(qiskit.__version__)"
   ]
  },
  {
   "cell_type": "code",
   "execution_count": 42,
   "id": "d3708170-d051-44de-9d25-61a0d34a0235",
   "metadata": {},
   "outputs": [
    {
     "ename": "ImportError",
     "evalue": "cannot import name 'BaseSampler' from 'qiskit.primitives' (C:\\Users\\jovin\\anaconda3\\envs\\ECE570\\lib\\site-packages\\qiskit\\primitives\\__init__.py)",
     "output_type": "error",
     "traceback": [
      "\u001b[1;31m---------------------------------------------------------------------------\u001b[0m",
      "\u001b[1;31mImportError\u001b[0m                               Traceback (most recent call last)",
      "Cell \u001b[1;32mIn[42], line 9\u001b[0m\n\u001b[0;32m      7\u001b[0m \u001b[38;5;28;01mfrom\u001b[39;00m \u001b[38;5;21;01mqiskit\u001b[39;00m\u001b[38;5;21;01m.\u001b[39;00m\u001b[38;5;21;01mproviders\u001b[39;00m\u001b[38;5;21;01m.\u001b[39;00m\u001b[38;5;21;01mbasic_provider\u001b[39;00m \u001b[38;5;28;01mimport\u001b[39;00m BasicSimulator\n\u001b[0;32m      8\u001b[0m \u001b[38;5;28;01mfrom\u001b[39;00m \u001b[38;5;21;01mqiskit\u001b[39;00m\u001b[38;5;21;01m.\u001b[39;00m\u001b[38;5;21;01mcircuit\u001b[39;00m\u001b[38;5;21;01m.\u001b[39;00m\u001b[38;5;21;01mlibrary\u001b[39;00m \u001b[38;5;28;01mimport\u001b[39;00m RealAmplitudes\n\u001b[1;32m----> 9\u001b[0m \u001b[38;5;28;01mfrom\u001b[39;00m \u001b[38;5;21;01mqiskit_algorithms\u001b[39;00m\u001b[38;5;21;01m.\u001b[39;00m\u001b[38;5;21;01moptimizers\u001b[39;00m \u001b[38;5;28;01mimport\u001b[39;00m COBYLA\n",
      "File \u001b[1;32m~\\anaconda3\\envs\\ECE570\\lib\\site-packages\\qiskit_algorithms\\__init__.py:254\u001b[0m\n\u001b[0;32m    252\u001b[0m \u001b[38;5;28;01mfrom\u001b[39;00m \u001b[38;5;21;01m.\u001b[39;00m\u001b[38;5;21;01malgorithm_job\u001b[39;00m \u001b[38;5;28;01mimport\u001b[39;00m AlgorithmJob\n\u001b[0;32m    253\u001b[0m \u001b[38;5;28;01mfrom\u001b[39;00m \u001b[38;5;21;01m.\u001b[39;00m\u001b[38;5;21;01malgorithm_result\u001b[39;00m \u001b[38;5;28;01mimport\u001b[39;00m AlgorithmResult\n\u001b[1;32m--> 254\u001b[0m \u001b[38;5;28;01mfrom\u001b[39;00m \u001b[38;5;21;01m.\u001b[39;00m\u001b[38;5;21;01mvariational_algorithm\u001b[39;00m \u001b[38;5;28;01mimport\u001b[39;00m VariationalAlgorithm, VariationalResult\n\u001b[0;32m    255\u001b[0m \u001b[38;5;28;01mfrom\u001b[39;00m \u001b[38;5;21;01m.\u001b[39;00m\u001b[38;5;21;01mamplitude_amplifiers\u001b[39;00m \u001b[38;5;28;01mimport\u001b[39;00m Grover, GroverResult, AmplificationProblem, AmplitudeAmplifier\n\u001b[0;32m    256\u001b[0m \u001b[38;5;28;01mfrom\u001b[39;00m \u001b[38;5;21;01m.\u001b[39;00m\u001b[38;5;21;01mamplitude_estimators\u001b[39;00m \u001b[38;5;28;01mimport\u001b[39;00m (\n\u001b[0;32m    257\u001b[0m     AmplitudeEstimator,\n\u001b[0;32m    258\u001b[0m     AmplitudeEstimatorResult,\n\u001b[1;32m   (...)\u001b[0m\n\u001b[0;32m    267\u001b[0m     EstimationProblem,\n\u001b[0;32m    268\u001b[0m )\n",
      "File \u001b[1;32m~\\anaconda3\\envs\\ECE570\\lib\\site-packages\\qiskit_algorithms\\variational_algorithm.py:36\u001b[0m\n\u001b[0;32m     33\u001b[0m \u001b[38;5;28;01mfrom\u001b[39;00m \u001b[38;5;21;01mqiskit\u001b[39;00m\u001b[38;5;21;01m.\u001b[39;00m\u001b[38;5;21;01mcircuit\u001b[39;00m \u001b[38;5;28;01mimport\u001b[39;00m QuantumCircuit\n\u001b[0;32m     35\u001b[0m \u001b[38;5;28;01mfrom\u001b[39;00m \u001b[38;5;21;01m.\u001b[39;00m\u001b[38;5;21;01malgorithm_result\u001b[39;00m \u001b[38;5;28;01mimport\u001b[39;00m AlgorithmResult\n\u001b[1;32m---> 36\u001b[0m \u001b[38;5;28;01mfrom\u001b[39;00m \u001b[38;5;21;01m.\u001b[39;00m\u001b[38;5;21;01moptimizers\u001b[39;00m \u001b[38;5;28;01mimport\u001b[39;00m OptimizerResult\n\u001b[0;32m     39\u001b[0m \u001b[38;5;28;01mclass\u001b[39;00m \u001b[38;5;21;01mVariationalAlgorithm\u001b[39;00m(ABC):\n\u001b[0;32m     40\u001b[0m \u001b[38;5;250m    \u001b[39m\u001b[38;5;124;03m\"\"\"The Variational Algorithm Base Class.\"\"\"\u001b[39;00m\n",
      "File \u001b[1;32m~\\anaconda3\\envs\\ECE570\\lib\\site-packages\\qiskit_algorithms\\optimizers\\__init__.py:139\u001b[0m\n\u001b[0;32m    137\u001b[0m \u001b[38;5;28;01mfrom\u001b[39;00m \u001b[38;5;21;01m.\u001b[39;00m\u001b[38;5;21;01mp_bfgs\u001b[39;00m \u001b[38;5;28;01mimport\u001b[39;00m P_BFGS\n\u001b[0;32m    138\u001b[0m \u001b[38;5;28;01mfrom\u001b[39;00m \u001b[38;5;21;01m.\u001b[39;00m\u001b[38;5;21;01mpowell\u001b[39;00m \u001b[38;5;28;01mimport\u001b[39;00m POWELL\n\u001b[1;32m--> 139\u001b[0m \u001b[38;5;28;01mfrom\u001b[39;00m \u001b[38;5;21;01m.\u001b[39;00m\u001b[38;5;21;01mqnspsa\u001b[39;00m \u001b[38;5;28;01mimport\u001b[39;00m QNSPSA\n\u001b[0;32m    140\u001b[0m \u001b[38;5;28;01mfrom\u001b[39;00m \u001b[38;5;21;01m.\u001b[39;00m\u001b[38;5;21;01mscipy_optimizer\u001b[39;00m \u001b[38;5;28;01mimport\u001b[39;00m SciPyOptimizer\n\u001b[0;32m    141\u001b[0m \u001b[38;5;28;01mfrom\u001b[39;00m \u001b[38;5;21;01m.\u001b[39;00m\u001b[38;5;21;01mslsqp\u001b[39;00m \u001b[38;5;28;01mimport\u001b[39;00m SLSQP\n",
      "File \u001b[1;32m~\\anaconda3\\envs\\ECE570\\lib\\site-packages\\qiskit_algorithms\\optimizers\\qnspsa.py:23\u001b[0m\n\u001b[0;32m     20\u001b[0m \u001b[38;5;28;01mimport\u001b[39;00m \u001b[38;5;21;01mnumpy\u001b[39;00m \u001b[38;5;28;01mas\u001b[39;00m \u001b[38;5;21;01mnp\u001b[39;00m\n\u001b[0;32m     21\u001b[0m \u001b[38;5;28;01mfrom\u001b[39;00m \u001b[38;5;21;01mqiskit\u001b[39;00m\u001b[38;5;21;01m.\u001b[39;00m\u001b[38;5;21;01mcircuit\u001b[39;00m \u001b[38;5;28;01mimport\u001b[39;00m QuantumCircuit\n\u001b[1;32m---> 23\u001b[0m \u001b[38;5;28;01mfrom\u001b[39;00m \u001b[38;5;21;01mqiskit\u001b[39;00m\u001b[38;5;21;01m.\u001b[39;00m\u001b[38;5;21;01mprimitives\u001b[39;00m \u001b[38;5;28;01mimport\u001b[39;00m BaseSampler\n\u001b[0;32m     24\u001b[0m \u001b[38;5;28;01mfrom\u001b[39;00m \u001b[38;5;21;01mqiskit_algorithms\u001b[39;00m\u001b[38;5;21;01m.\u001b[39;00m\u001b[38;5;21;01mstate_fidelities\u001b[39;00m \u001b[38;5;28;01mimport\u001b[39;00m ComputeUncompute\n\u001b[0;32m     26\u001b[0m \u001b[38;5;28;01mfrom\u001b[39;00m \u001b[38;5;21;01m.\u001b[39;00m\u001b[38;5;21;01mspsa\u001b[39;00m \u001b[38;5;28;01mimport\u001b[39;00m SPSA, CALLBACK, TERMINATIONCHECKER, _batch_evaluate\n",
      "\u001b[1;31mImportError\u001b[0m: cannot import name 'BaseSampler' from 'qiskit.primitives' (C:\\Users\\jovin\\anaconda3\\envs\\ECE570\\lib\\site-packages\\qiskit\\primitives\\__init__.py)"
     ]
    }
   ],
   "source": [
    "import librosa\n",
    "import librosa.display\n",
    "import numpy as np\n",
    "import matplotlib.pyplot as plt\n",
    "\n",
    "from qiskit import QuantumCircuit, transpile\n",
    "from qiskit.providers.basic_provider import BasicSimulator\n",
    "from qiskit.circuit.library import RealAmplitudes\n",
    "from qiskit_algorithms.optimizers import COBYLA"
   ]
  },
  {
   "cell_type": "code",
   "execution_count": 56,
   "id": "54a303a3-9838-4f9d-8c1f-defaa23839e1",
   "metadata": {},
   "outputs": [],
   "source": [
    "import qiskit\n",
    "from qiskit.circuit import QuantumCircuit, QuantumRegister, ParameterVector\n",
    "from qiskit.quantum_info import Statevector\n",
    "import numpy as np\n",
    "from scipy.signal import stft  # Example for classical preprocessing\n",
    "from qiskit_aer import Aer"
   ]
  },
  {
   "cell_type": "code",
   "execution_count": 57,
   "id": "1b9d83f3-b895-4668-abdb-ffd780888c6e",
   "metadata": {},
   "outputs": [],
   "source": [
    "def preprocess_audio(audio_file):\n",
    "    sampling_rate = 44100\n",
    "    duration = 2  # seconds\n",
    "    num_frames = 10\n",
    "    time_points = np.linspace(0, duration, num_frames, endpoint=False)\n",
    "    features = np.random.rand(num_frames, 4)  \n",
    "    return features, time_points"
   ]
  },
  {
   "cell_type": "code",
   "execution_count": 58,
   "id": "4192a478-c084-4cef-b4b2-2623dc99cf0a",
   "metadata": {},
   "outputs": [],
   "source": [
    "def create_variational_circuit(num_qubits, num_features, num_parameters):\n",
    "    qr = QuantumRegister(num_qubits, 'q')\n",
    "    qc = QuantumCircuit(qr, name='var_circ')\n",
    "    params = ParameterVector('theta', num_parameters)\n",
    "\n",
    "    for i in range(min(num_features, num_qubits)):\n",
    "        qc.ry(params[i], qr[i])\n",
    "\n",
    "    if num_qubits > 1 and num_parameters > min(num_features, num_qubits):\n",
    "        qc.cx(qr[0], qr[1])\n",
    "        qc.rz(params[min(num_features, num_qubits)], qr[1]) \n",
    "        qc.cx(qr[0], qr[1])\n",
    "\n",
    "    return qc, params"
   ]
  },
  {
   "cell_type": "code",
   "execution_count": 59,
   "id": "58e13515-bd1d-46da-a4aa-b664d287017b",
   "metadata": {},
   "outputs": [],
   "source": [
    "def encode_and_run(features, time_point, variational_circuit, parameters, backend):\n",
    "    num_features_local = features.shape[0]\n",
    "    num_qubits = variational_circuit.num_qubits\n",
    "    num_params = len(parameters)\n",
    "\n",
    "    param_values = features.tolist() + [np.random.rand()] * (num_params - num_features_local)\n",
    "\n",
    "    bound_circuit = variational_circuit.assign_parameters(dict(zip(parameters, param_values)))\n",
    "\n",
    "    # For a simulator:\n",
    "    simulator = Aer.get_backend('aer_simulator')\n",
    "    compiled_circuit = qiskit.transpile(bound_circuit, simulator)\n",
    "    job = simulator.run(compiled_circuit, shots=1024)\n",
    "    result = job.result()\n",
    "    counts = result.get_counts(bound_circuit)\n",
    "\n",
    "    predicted_note = interpret_counts(counts)\n",
    "\n",
    "    return predicted_note, time_point"
   ]
  },
  {
   "cell_type": "code",
   "execution_count": 60,
   "id": "d2097c98-7a1e-4f89-9c62-ae501e5dcdbd",
   "metadata": {},
   "outputs": [],
   "source": [
    "def interpret_counts(counts):\n",
    "\n",
    "    most_likely_bitstring = max(counts, key=counts.get)\n",
    "\n",
    "    note_mapping = {\"00\": \"C4\", \"01\": \"D4\", \"10\": \"E4\", \"11\": \"F4\"}\n",
    "    return note_mapping.get(most_likely_bitstring, \"Unknown\")"
   ]
  },
  {
   "cell_type": "code",
   "execution_count": 55,
   "id": "a39cb994-9c9d-4ebe-aa53-f90af43a53e1",
   "metadata": {},
   "outputs": [
    {
     "ename": "CircuitError",
     "evalue": "'Cannot bind parameters (theta[3], theta[4]) not present in the circuit.'",
     "output_type": "error",
     "traceback": [
      "\u001b[1;31m---------------------------------------------------------------------------\u001b[0m",
      "\u001b[1;31mCircuitError\u001b[0m                              Traceback (most recent call last)",
      "Cell \u001b[1;32mIn[55], line 17\u001b[0m\n\u001b[0;32m     15\u001b[0m \u001b[38;5;28;01mfor\u001b[39;00m i, features \u001b[38;5;129;01min\u001b[39;00m \u001b[38;5;28menumerate\u001b[39m(extracted_features):\n\u001b[0;32m     16\u001b[0m     time_point \u001b[38;5;241m=\u001b[39m time_stamps[i]\n\u001b[1;32m---> 17\u001b[0m     predicted_note, time \u001b[38;5;241m=\u001b[39m \u001b[43mencode_and_run\u001b[49m\u001b[43m(\u001b[49m\u001b[43mfeatures\u001b[49m\u001b[43m,\u001b[49m\u001b[43m \u001b[49m\u001b[43mtime_point\u001b[49m\u001b[43m,\u001b[49m\u001b[43m \u001b[49m\u001b[43mvariational_circuit\u001b[49m\u001b[43m,\u001b[49m\u001b[43m \u001b[49m\u001b[43mparameters\u001b[49m\u001b[43m,\u001b[49m\u001b[43m \u001b[49m\u001b[43mbackend\u001b[49m\u001b[43m)\u001b[49m\n\u001b[0;32m     18\u001b[0m     predicted_notes_with_time\u001b[38;5;241m.\u001b[39mappend((time, predicted_note))\n\u001b[0;32m     20\u001b[0m \u001b[38;5;28mprint\u001b[39m(\u001b[38;5;124m\"\u001b[39m\u001b[38;5;124mPredicted Notes with Time:\u001b[39m\u001b[38;5;124m\"\u001b[39m)\n",
      "Cell \u001b[1;32mIn[53], line 9\u001b[0m, in \u001b[0;36mencode_and_run\u001b[1;34m(features, time_point, variational_circuit, parameters, backend)\u001b[0m\n\u001b[0;32m      6\u001b[0m \u001b[38;5;66;03m# Assign feature values to the initial parameters (simplified)\u001b[39;00m\n\u001b[0;32m      7\u001b[0m param_values \u001b[38;5;241m=\u001b[39m features\u001b[38;5;241m.\u001b[39mtolist() \u001b[38;5;241m+\u001b[39m [np\u001b[38;5;241m.\u001b[39mrandom\u001b[38;5;241m.\u001b[39mrand()] \u001b[38;5;241m*\u001b[39m (num_params \u001b[38;5;241m-\u001b[39m num_features_local) \u001b[38;5;66;03m# Example\u001b[39;00m\n\u001b[1;32m----> 9\u001b[0m bound_circuit \u001b[38;5;241m=\u001b[39m \u001b[43mvariational_circuit\u001b[49m\u001b[38;5;241;43m.\u001b[39;49m\u001b[43massign_parameters\u001b[49m\u001b[43m(\u001b[49m\u001b[38;5;28;43mdict\u001b[39;49m\u001b[43m(\u001b[49m\u001b[38;5;28;43mzip\u001b[39;49m\u001b[43m(\u001b[49m\u001b[43mparameters\u001b[49m\u001b[43m,\u001b[49m\u001b[43m \u001b[49m\u001b[43mparam_values\u001b[49m\u001b[43m)\u001b[49m\u001b[43m)\u001b[49m\u001b[43m)\u001b[49m\n\u001b[0;32m     11\u001b[0m \u001b[38;5;66;03m# For a simulator:\u001b[39;00m\n\u001b[0;32m     12\u001b[0m simulator \u001b[38;5;241m=\u001b[39m Aer\u001b[38;5;241m.\u001b[39mget_backend(\u001b[38;5;124m'\u001b[39m\u001b[38;5;124maer_simulator\u001b[39m\u001b[38;5;124m'\u001b[39m)\n",
      "File \u001b[1;32m~\\anaconda3\\envs\\ECE570\\lib\\site-packages\\qiskit\\circuit\\quantumcircuit.py:4486\u001b[0m, in \u001b[0;36mQuantumCircuit.assign_parameters\u001b[1;34m(self, parameters, inplace, flat_input, strict)\u001b[0m\n\u001b[0;32m   4480\u001b[0m     raw_mapping \u001b[38;5;241m=\u001b[39m parameters \u001b[38;5;28;01mif\u001b[39;00m flat_input \u001b[38;5;28;01melse\u001b[39;00m \u001b[38;5;28mself\u001b[39m\u001b[38;5;241m.\u001b[39m_unroll_param_dict(parameters)\n\u001b[0;32m   4481\u001b[0m     \u001b[38;5;28;01mif\u001b[39;00m strict \u001b[38;5;129;01mand\u001b[39;00m (\n\u001b[0;32m   4482\u001b[0m         extras \u001b[38;5;241m:=\u001b[39m [\n\u001b[0;32m   4483\u001b[0m             parameter \u001b[38;5;28;01mfor\u001b[39;00m parameter \u001b[38;5;129;01min\u001b[39;00m raw_mapping \u001b[38;5;28;01mif\u001b[39;00m \u001b[38;5;129;01mnot\u001b[39;00m \u001b[38;5;28mself\u001b[39m\u001b[38;5;241m.\u001b[39mhas_parameter(parameter)\n\u001b[0;32m   4484\u001b[0m         ]\n\u001b[0;32m   4485\u001b[0m     ):\n\u001b[1;32m-> 4486\u001b[0m         \u001b[38;5;28;01mraise\u001b[39;00m CircuitError(\n\u001b[0;32m   4487\u001b[0m             \u001b[38;5;124mf\u001b[39m\u001b[38;5;124m\"\u001b[39m\u001b[38;5;124mCannot bind parameters (\u001b[39m\u001b[38;5;132;01m{\u001b[39;00m\u001b[38;5;124m'\u001b[39m\u001b[38;5;124m, \u001b[39m\u001b[38;5;124m'\u001b[39m\u001b[38;5;241m.\u001b[39mjoin(\u001b[38;5;28mstr\u001b[39m(x)\u001b[38;5;250m \u001b[39m\u001b[38;5;28;01mfor\u001b[39;00m\u001b[38;5;250m \u001b[39mx\u001b[38;5;250m \u001b[39m\u001b[38;5;129;01min\u001b[39;00m\u001b[38;5;250m \u001b[39mextras)\u001b[38;5;132;01m}\u001b[39;00m\u001b[38;5;124m) not present in\u001b[39m\u001b[38;5;124m\"\u001b[39m\n\u001b[0;32m   4488\u001b[0m             \u001b[38;5;124m\"\u001b[39m\u001b[38;5;124m the circuit.\u001b[39m\u001b[38;5;124m\"\u001b[39m\n\u001b[0;32m   4489\u001b[0m         )\n\u001b[0;32m   4491\u001b[0m     target\u001b[38;5;241m.\u001b[39m_data\u001b[38;5;241m.\u001b[39massign_parameters_mapping(raw_mapping)\n\u001b[0;32m   4492\u001b[0m \u001b[38;5;28;01melse\u001b[39;00m:\n",
      "\u001b[1;31mCircuitError\u001b[0m: 'Cannot bind parameters (theta[3], theta[4]) not present in the circuit.'"
     ]
    }
   ],
   "source": [
    "if __name__ == \"__main__\":\n",
    "    audio_file = \"archive\\Piano_Notes\\piano-bb_A#_major.wav\"  \n",
    "    extracted_features, time_stamps = preprocess_audio(audio_file)\n",
    "\n",
    "    num_qubits = 2  # Example\n",
    "    num_features_per_frame = extracted_features.shape[1]\n",
    "    num_variational_params = num_features_per_frame + 1 # Example: Allows for parameters beyond the input features\n",
    "\n",
    "    variational_circuit, parameters = create_variational_circuit(num_qubits, num_features_per_frame, num_variational_params)\n",
    "\n",
    "    # Choose a backend (simulator for now)\n",
    "    backend = Aer.get_backend('aer_simulator')\n",
    "\n",
    "    predicted_notes_with_time = []\n",
    "    for i, features in enumerate(extracted_features):\n",
    "        time_point = time_stamps[i]\n",
    "        predicted_note, time = encode_and_run(features, time_point, variational_circuit, parameters, backend)\n",
    "        predicted_notes_with_time.append((time, predicted_note))\n",
    "\n",
    "    print(\"Predicted Notes with Time:\")\n",
    "    for time, note in predicted_notes_with_time:\n",
    "        print(f\"Time: {time:.2f}s, Note: {note}\")"
   ]
  },
  {
   "cell_type": "code",
   "execution_count": null,
   "id": "4fba0a30-63d7-4e1b-93a1-b45e64993250",
   "metadata": {},
   "outputs": [],
   "source": []
  }
 ],
 "metadata": {
  "kernelspec": {
   "display_name": "Python 3 (ipykernel)",
   "language": "python",
   "name": "python3"
  },
  "language_info": {
   "codemirror_mode": {
    "name": "ipython",
    "version": 3
   },
   "file_extension": ".py",
   "mimetype": "text/x-python",
   "name": "python",
   "nbconvert_exporter": "python",
   "pygments_lexer": "ipython3",
   "version": "3.9.21"
  }
 },
 "nbformat": 4,
 "nbformat_minor": 5
}
