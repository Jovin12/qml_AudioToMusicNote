{
 "cells": [
  {
   "cell_type": "code",
   "execution_count": 2,
   "id": "5c95936f-dcca-46dd-99d5-8b3a75657c75",
   "metadata": {},
   "outputs": [],
   "source": [
    "import librosa\n",
    "import numpy as np"
   ]
  },
  {
   "cell_type": "code",
   "execution_count": 14,
   "id": "c01bb53f-3f83-4071-b276-8e81ae8703ab",
   "metadata": {},
   "outputs": [
    {
     "name": "stdout",
     "output_type": "stream",
     "text": [
      "Requirement already satisfied: matplotlib in c:\\users\\jovin\\anaconda3\\envs\\ece570_v2\\lib\\site-packages (3.10.1)\n",
      "Requirement already satisfied: contourpy>=1.0.1 in c:\\users\\jovin\\anaconda3\\envs\\ece570_v2\\lib\\site-packages (from matplotlib) (1.3.1)\n",
      "Requirement already satisfied: cycler>=0.10 in c:\\users\\jovin\\anaconda3\\envs\\ece570_v2\\lib\\site-packages (from matplotlib) (0.12.1)\n",
      "Requirement already satisfied: fonttools>=4.22.0 in c:\\users\\jovin\\anaconda3\\envs\\ece570_v2\\lib\\site-packages (from matplotlib) (4.57.0)\n",
      "Requirement already satisfied: kiwisolver>=1.3.1 in c:\\users\\jovin\\anaconda3\\envs\\ece570_v2\\lib\\site-packages (from matplotlib) (1.4.8)\n",
      "Requirement already satisfied: numpy>=1.23 in c:\\users\\jovin\\appdata\\roaming\\python\\python310\\site-packages (from matplotlib) (2.1.1)\n",
      "Requirement already satisfied: packaging>=20.0 in c:\\users\\jovin\\appdata\\roaming\\python\\python310\\site-packages (from matplotlib) (24.1)\n",
      "Requirement already satisfied: pillow>=8 in c:\\users\\jovin\\anaconda3\\envs\\ece570_v2\\lib\\site-packages (from matplotlib) (11.1.0)\n",
      "Requirement already satisfied: pyparsing>=2.3.1 in c:\\users\\jovin\\anaconda3\\envs\\ece570_v2\\lib\\site-packages (from matplotlib) (3.2.3)\n",
      "Requirement already satisfied: python-dateutil>=2.7 in c:\\users\\jovin\\anaconda3\\envs\\ece570_v2\\lib\\site-packages (from matplotlib) (2.9.0.post0)\n",
      "Requirement already satisfied: six>=1.5 in c:\\users\\jovin\\anaconda3\\envs\\ece570_v2\\lib\\site-packages (from python-dateutil>=2.7->matplotlib) (1.16.0)\n"
     ]
    }
   ],
   "source": [
    "!pip install matplotlib"
   ]
  },
  {
   "cell_type": "code",
   "execution_count": 41,
   "id": "eafaded4-a9a3-4697-8c36-809bbe6ac8cd",
   "metadata": {},
   "outputs": [],
   "source": [
    "audio_path = 'archive/Piano_Notes/piano-bb_D#_major.wav'"
   ]
  },
  {
   "cell_type": "code",
   "execution_count": 15,
   "id": "9e949f78-4761-43ef-9bd4-15e660c88859",
   "metadata": {},
   "outputs": [],
   "source": [
    "y,sr = librosa.load(audio_path)\n",
    "duration = librosa.get_duration(y = y, sr = sr)\n",
    "samples = len(y)"
   ]
  },
  {
   "cell_type": "code",
   "execution_count": 16,
   "id": "54c99c11-d446-41ce-bea8-35d056995717",
   "metadata": {},
   "outputs": [],
   "source": [
    "n_fft = 2048 # window length for short forier transform\n",
    "hop_length = 512 # hop difference between each window"
   ]
  },
  {
   "cell_type": "code",
   "execution_count": 17,
   "id": "2eb8072a-5beb-4993-92da-56546ef312c2",
   "metadata": {},
   "outputs": [
    {
     "data": {
      "text/plain": [
       "33968"
      ]
     },
     "execution_count": 17,
     "metadata": {},
     "output_type": "execute_result"
    }
   ],
   "source": [
    "samples"
   ]
  },
  {
   "cell_type": "code",
   "execution_count": 26,
   "id": "4efbb8a3-06d0-42e4-8e45-8ed3a2d4dd80",
   "metadata": {},
   "outputs": [],
   "source": [
    "y, _ = librosa.effects.trim(y, top_db = 10)\n",
    "stft = librosa.stft(y)\n",
    "chromagram = librosa.feature.chroma_stft(S = np.abs(stft), sr = sr)"
   ]
  },
  {
   "cell_type": "code",
   "execution_count": 27,
   "id": "6326d954-f5f5-48ab-a93f-4802e58f2894",
   "metadata": {},
   "outputs": [
    {
     "data": {
      "text/plain": [
       "(12, 22)"
      ]
     },
     "execution_count": 27,
     "metadata": {},
     "output_type": "execute_result"
    }
   ],
   "source": [
    "chromagram.shape"
   ]
  },
  {
   "cell_type": "code",
   "execution_count": 29,
   "id": "a6108bee-c02f-4b8a-b6b0-2843951a4a50",
   "metadata": {},
   "outputs": [],
   "source": [
    "def get_chromagram(audio_file):\n",
    "    y,sr = librosa.load(audio_file)\n",
    "    y, _ = librosa.effects.trim(y, top_db = 10)\n",
    "    stft = librosa.stft(y)\n",
    "    chromagram = librosa.feature.chroma_stft(S = np.abs(stft), sr = sr)\n",
    "    return chromagram"
   ]
  },
  {
   "cell_type": "code",
   "execution_count": 43,
   "id": "1fa105eb-cd54-48af-a1cb-c55d5cc91508",
   "metadata": {},
   "outputs": [],
   "source": [
    "audio_path = 'archive/Piano_Notes/piano-eb_D#_major.wav'"
   ]
  },
  {
   "cell_type": "code",
   "execution_count": 44,
   "id": "f508fa9b-6471-4bdc-b3ec-6ea81d106695",
   "metadata": {},
   "outputs": [],
   "source": [
    "chromagram = get_chromagram(audio_path)"
   ]
  },
  {
   "cell_type": "code",
   "execution_count": 45,
   "id": "6f7950f5-0551-4617-9ca4-105b28b57a8c",
   "metadata": {},
   "outputs": [],
   "source": [
    "prominant_pitch = np.argmax(chromagram[:,21])"
   ]
  },
  {
   "cell_type": "code",
   "execution_count": 46,
   "id": "08a033fb-d7d6-41fc-b34a-6f1f66f5d614",
   "metadata": {},
   "outputs": [],
   "source": [
    "pitch_classes = [\"C\",\"C#\",\"D\",\"D#\",\"E\",\"F\",\"F#\",\"G\",\"G#\",\"A\",\"A#\",\"B\"]"
   ]
  },
  {
   "cell_type": "code",
   "execution_count": 47,
   "id": "f11d8ce6-f88c-41e2-a875-070ba42d649d",
   "metadata": {},
   "outputs": [
    {
     "data": {
      "text/plain": [
       "'D#'"
      ]
     },
     "execution_count": 47,
     "metadata": {},
     "output_type": "execute_result"
    }
   ],
   "source": [
    "pitch_name = pitch_classes[prominant_pitch]\n",
    "pitch_name"
   ]
  },
  {
   "cell_type": "code",
   "execution_count": 5,
   "id": "0f6614fb-949f-4891-b622-6994f5b6ab5f",
   "metadata": {},
   "outputs": [],
   "source": [
    "# Designing the Circuit\n",
    "import qiskit\n",
    "from qiskit.circuit import QuantumCircuit, QuantumRegister, ClassicalRegister\n",
    "from qiskit.circuit.parameter import Parameter\n",
    "import numpy as np"
   ]
  },
  {
   "cell_type": "code",
   "execution_count": 19,
   "id": "fb1198fc-aa81-4299-8f4a-7bc1c433486f",
   "metadata": {},
   "outputs": [
    {
     "data": {
      "text/html": [
       "<pre style=\"word-wrap: normal;white-space: pre;background: #fff0;line-height: 1.1;font-family: &quot;Courier New&quot;,Courier,monospace\">   ┌───────────────┐\n",
       "q: ┤ U(angle1,0,0) ├\n",
       "   └───────────────┘</pre>"
      ],
      "text/plain": [
       "   ┌───────────────┐\n",
       "q: ┤ U(angle1,0,0) ├\n",
       "   └───────────────┘"
      ]
     },
     "execution_count": 19,
     "metadata": {},
     "output_type": "execute_result"
    }
   ],
   "source": [
    "from qiskit.transpiler import generate_preset_pass_manager\n",
    "from qiskit.circuit import Parameter\n",
    " \n",
    "angle = Parameter(\"angle1\")  # undefined number\n",
    " \n",
    "# Create and optimize circuit once\n",
    "qc = QuantumCircuit(1)\n",
    "qc.ry(angle, 0)\n",
    "\n",
    "qc = generate_preset_pass_manager(optimization_level=3, basis_gates=[\"u\", \"cx\"]).run(qc)\n",
    " \n",
    "qc.draw(output = 'text')"
   ]
  },
  {
   "cell_type": "code",
   "execution_count": 8,
   "id": "e42f1a94-c326-49c2-b5ed-828716160468",
   "metadata": {},
   "outputs": [],
   "source": [
    "def vqc(n_qubits, n_layers, n_features):\n",
    "    qr = QuantumRegister(n_qubits, 'q')\n",
    "    cr = ClassicalRegister(n_qubits, 'c')\n",
    "    qc = QuantumCircuit(qr, cr, name = 'vqc')\n",
    "\n",
    "    # using angle encoding\n",
    "    # REASONS: direct maping of classical data\n",
    "    #           using continuous variable to represent feature, to preserve mor eof the original\n",
    "    for i in range(n_features):\n",
    "        angle = Parameter(f'feature{i}')\n",
    "        qc.ry(angle, qr[i % n_qubits])   # reusing the same qubits to code multiple features\n",
    "\n",
    "    # for the number of circuit layers we want to implement\n",
    "    for layer in range(n_layers):\n",
    "        for i in range(n_qubits):\n",
    "            theta = Parameter(f'theta_{layer}_{i}')\n",
    "            phi = Parameter(f'phi_{layer}_{i}')\n",
    "            lam = Parameter(f'lambda_{layer}_{i}')\n",
    "            qc.u(theta, phi, lam, qr[i])\n",
    "\n",
    "        for i in range(n_qubits -1):\n",
    "            qc.cx(qr[i], qr[i+1])\n",
    "\n",
    "        if n_qubits > 1: \n",
    "            qc.cx(qr[n_qubits -1], qr[0])\n",
    "\n",
    "    qc.measure(qr,cr)\n",
    "    return qc"
   ]
  },
  {
   "cell_type": "code",
   "execution_count": null,
   "id": "150ceed4-dd68-493f-9d5c-fa5af94cfc95",
   "metadata": {},
   "outputs": [],
   "source": []
  }
 ],
 "metadata": {
  "kernelspec": {
   "display_name": "Python 3 (ipykernel)",
   "language": "python",
   "name": "python3"
  },
  "language_info": {
   "codemirror_mode": {
    "name": "ipython",
    "version": 3
   },
   "file_extension": ".py",
   "mimetype": "text/x-python",
   "name": "python",
   "nbconvert_exporter": "python",
   "pygments_lexer": "ipython3",
   "version": "3.10.16"
  }
 },
 "nbformat": 4,
 "nbformat_minor": 5
}
